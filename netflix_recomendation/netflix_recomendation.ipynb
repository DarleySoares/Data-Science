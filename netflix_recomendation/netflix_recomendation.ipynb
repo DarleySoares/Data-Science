{
 "cells": [
  {
   "cell_type": "markdown",
   "metadata": {},
   "source": [
    "![alt text ](https://raw.githubusercontent.com/DarleySoares/Data-Science/master/netflix_recomendation/images/header.png)"
   ]
  },
  {
   "cell_type": "markdown",
   "metadata": {},
   "source": [
    "# Sistema de Recomendação de filmes e séries - Netflix"
   ]
  },
  {
   "cell_type": "markdown",
   "metadata": {},
   "source": [
    "Com 160 milhões de assinantes, a **Netflix** é uma provedora global de filmes e séries via streaming. A empresa foi fundada em 1997, nos Estados Unidos, prestando o serviço de entrega de DVD's via correio, já entre 2007 e 2010 expandiu-se para o serviço de streaming nos EUA e no Canadá.\n",
    "\n",
    "Hoje, ela não conta somente com filmes e séries de outras produtoras, a Netflix está revolucionando o cenário de produção de conteúdo, criando novas séries e filmes, isso começou em 2013 com a estreia do seriado House of Cards. Hoje está em quase todos os países, com exceção da China, Coreia do Norte, Crimeia (região da Ucrânia) e Síria, devido lei local não permitir serviços americanos.\n",
    "\n",
    "Para melhorar a experiência do usuário, a Netflix utiliza de um sistema de recomendações personalizado. Sempre que o serviço é acessado, o sistema auxilia o usuário a encontrar séries ou filmes de forma fácil. Essa selação de produções são baseadas nas interações com o serviço (títulos assistidos e notas), outros assinantes com gostos similares e informações sobre o título (gênero, categorias, atores, ano de lançamento e etc.)\n"
   ]
  }
 ],
 "metadata": {
  "language_info": {
   "codemirror_mode": {
    "name": "ipython",
    "version": 3
   },
   "file_extension": ".py",
   "mimetype": "text/x-python",
   "name": "python",
   "nbconvert_exporter": "python",
   "pygments_lexer": "ipython3",
   "version": 3
  },
  "orig_nbformat": 2
 },
 "nbformat": 4,
 "nbformat_minor": 2
}